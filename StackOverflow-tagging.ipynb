{
 "cells": [
  {
   "cell_type": "markdown",
   "metadata": {},
   "source": [
    "# Predict tags of StackOverflow questions\n",
    "\n",
    "In this task, you will learn how to predict tags for posts from [StackOverflow](https://stackoverflow.com). To solve this task you will use multilabel classification approach.\n",
    "<img src=\"images/stackoverflow tagging.png\">\n",
    "\n",
    "## Libraries\n",
    "\n",
    "In this task you will need the following libraries:\n",
    "- [Numpy](http://www.numpy.org) — a package for scientific computing.\n",
    "- [Pandas](https://pandas.pydata.org) — a library providing high-performance, easy-to-use data structures and data analysis tools for the Python\n",
    "- [scikit-learn](http://scikit-learn.org/stable/index.html) — a tool for data mining and data analysis.\n",
    "- [NLTK](http://www.nltk.org) — a platform to work with natural language.\n",
    "\n",
    "So let's start by importing the aforementioned libraries"
   ]
  },
  {
   "cell_type": "code",
   "execution_count": 1,
   "metadata": {
    "collapsed": true
   },
   "outputs": [],
   "source": [
    "import numpy as np\n",
    "import pandas as pd\n",
    "import nltk"
   ]
  },
  {
   "cell_type": "markdown",
   "metadata": {},
   "source": [
    "## Read & visualize data\n",
    "In this task you will deal with a dataset of post titles from StackOverflow. You are provided a split to 2 sets: *train* and *test*. All data contain titles of the posts and corresponding tags (100 tags are available). Let's read the data (using pandas) and visualize it."
   ]
  },
  {
   "cell_type": "code",
   "execution_count": 2,
   "metadata": {
    "collapsed": true
   },
   "outputs": [],
   "source": [
    "from ast import literal_eval\n",
    "\n",
    "def read_data(filename, size=None):\n",
    "    data = pd.read_csv(filename, sep='\\t')\n",
    "    data['tags'] = data['tags'].apply(literal_eval)\n",
    "    if size: data = data.iloc[:size,:] # take a subset of the data\n",
    "    return data"
   ]
  },
  {
   "cell_type": "code",
   "execution_count": 3,
   "metadata": {},
   "outputs": [
    {
     "data": {
      "text/html": [
       "<div>\n",
       "<style>\n",
       "    .dataframe thead tr:only-child th {\n",
       "        text-align: right;\n",
       "    }\n",
       "\n",
       "    .dataframe thead th {\n",
       "        text-align: left;\n",
       "    }\n",
       "\n",
       "    .dataframe tbody tr th {\n",
       "        vertical-align: top;\n",
       "    }\n",
       "</style>\n",
       "<table border=\"1\" class=\"dataframe\">\n",
       "  <thead>\n",
       "    <tr style=\"text-align: right;\">\n",
       "      <th></th>\n",
       "      <th>title</th>\n",
       "      <th>tags</th>\n",
       "    </tr>\n",
       "  </thead>\n",
       "  <tbody>\n",
       "    <tr>\n",
       "      <th>0</th>\n",
       "      <td>How to draw a stacked dotplot in R?</td>\n",
       "      <td>[r]</td>\n",
       "    </tr>\n",
       "    <tr>\n",
       "      <th>1</th>\n",
       "      <td>mysql select all records where a datetime fiel...</td>\n",
       "      <td>[php, mysql]</td>\n",
       "    </tr>\n",
       "    <tr>\n",
       "      <th>2</th>\n",
       "      <td>How to terminate windows phone 8.1 app</td>\n",
       "      <td>[c#]</td>\n",
       "    </tr>\n",
       "    <tr>\n",
       "      <th>3</th>\n",
       "      <td>get current time in a specific country via jquery</td>\n",
       "      <td>[javascript, jquery]</td>\n",
       "    </tr>\n",
       "    <tr>\n",
       "      <th>4</th>\n",
       "      <td>Configuring Tomcat to Use SSL</td>\n",
       "      <td>[java]</td>\n",
       "    </tr>\n",
       "  </tbody>\n",
       "</table>\n",
       "</div>"
      ],
      "text/plain": [
       "                                               title                  tags\n",
       "0                How to draw a stacked dotplot in R?                   [r]\n",
       "1  mysql select all records where a datetime fiel...          [php, mysql]\n",
       "2             How to terminate windows phone 8.1 app                  [c#]\n",
       "3  get current time in a specific country via jquery  [javascript, jquery]\n",
       "4                      Configuring Tomcat to Use SSL                [java]"
      ]
     },
     "execution_count": 3,
     "metadata": {},
     "output_type": "execute_result"
    }
   ],
   "source": [
    "train = read_data('data/stackoverflow tagging/train.tsv', 20000)\n",
    "test = read_data('data/stackoverflow tagging/validation.tsv', 5000)\n",
    "\n",
    "train.head()"
   ]
  },
  {
   "cell_type": "code",
   "execution_count": 4,
   "metadata": {},
   "outputs": [
    {
     "name": "stdout",
     "output_type": "stream",
     "text": [
      "<class 'pandas.core.frame.DataFrame'>\n",
      "RangeIndex: 20000 entries, 0 to 19999\n",
      "Data columns (total 2 columns):\n",
      "title    20000 non-null object\n",
      "tags     20000 non-null object\n",
      "dtypes: object(2)\n",
      "memory usage: 312.6+ KB\n"
     ]
    }
   ],
   "source": [
    "train.info()"
   ]
  },
  {
   "cell_type": "code",
   "execution_count": 5,
   "metadata": {},
   "outputs": [
    {
     "name": "stdout",
     "output_type": "stream",
     "text": [
      "titles data type is <class 'str'>\n",
      "tags data type is <class 'list'>\n"
     ]
    }
   ],
   "source": [
    "print('titles data type is', type(train['title'].iloc[0]))\n",
    "print('tags data type is', type(train['tags'].iloc[0]))"
   ]
  },
  {
   "cell_type": "markdown",
   "metadata": {},
   "source": [
    "As you can see, *title* column contains titles of the posts and *tags* column contains the tags. It could be noticed that a number of tags for a post is not fixed and could be as many as necessary.\n",
    "\n",
    "For a more comfortable usage, initialize *X_train*, *X_test*, *y_train*, *y_test*."
   ]
  },
  {
   "cell_type": "code",
   "execution_count": 6,
   "metadata": {
    "collapsed": true
   },
   "outputs": [],
   "source": [
    "X_train, y_train = train['title'].values, train['tags'].values\n",
    "X_test, y_test = test['title'].values, test['tags'].values"
   ]
  },
  {
   "cell_type": "code",
   "execution_count": 7,
   "metadata": {},
   "outputs": [
    {
     "name": "stdout",
     "output_type": "stream",
     "text": [
      "(20000,) (20000,)\n",
      "(5000,) (5000,)\n"
     ]
    }
   ],
   "source": [
    "print(X_train.shape, y_train.shape)\n",
    "print(X_test.shape, y_test.shape)"
   ]
  },
  {
   "cell_type": "markdown",
   "metadata": {},
   "source": [
    "## Preprocessing"
   ]
  },
  {
   "cell_type": "code",
   "execution_count": 8,
   "metadata": {},
   "outputs": [
    {
     "name": "stdout",
     "output_type": "stream",
     "text": [
      "Obtaining the object the java.lang.Class<T> object for a parameterized type without constructing the class in q_uestion?\n",
      "How to keep 2 objects in view at all time by scaling the field of view? (or z&y axis)\n",
      "AttributeError: 'NoneType' object has no attribute 'split'\n",
      "Creating JSON in Windows 8 C# using IJsonValue: Cannot Implicitly convert type 'string' to 'Windows.Data.Json.IJsonValue'\n",
      "Laravel 4: Input::all() returns no data with $.ajax POST\n"
     ]
    }
   ],
   "source": [
    "for ix in [10,27,28,33,37]:\n",
    "    print(X_train[ix])"
   ]
  },
  {
   "cell_type": "markdown",
   "metadata": {},
   "source": [
    "What's weird about the previous example? One of the most known difficulties when working with natural data is that it's unstructured. For example, if you use it \"as is\" and extract tokens just by splitting the titles by whitespaces, you will see that there are many \"weird\" tokens like *all()*, *'string'*, *Class<>*, etc. To prevent the problems, it's usually useful to prepare the data somehow. In this task you'll write a function to clean all titles in out data.\n",
    "\n",
    "**Task 1 (preprocessing).** Implement the function *text_prepare* that will do the following:\n",
    "- convert trst to lower case\n",
    "- replace symbols (e.g. brackets & slashes) with space\n",
    "- delete weird symbols (e.g. ? ! * < >)\n",
    "- delete stop words\n",
    "\n",
    "After that, run the function *test_test_prepare* to test it on tiny cases and check if your implementation is correct.\n",
    "\n",
    "<p style=\"color:white\"> *HINT:* use regular expression, **sub** function in particular <p>"
   ]
  },
  {
   "cell_type": "code",
   "execution_count": 9,
   "metadata": {},
   "outputs": [
    {
     "name": "stdout",
     "output_type": "stream",
     "text": [
      "[nltk_data] Downloading package stopwords to\n",
      "[nltk_data]     C:\\Users\\User\\AppData\\Roaming\\nltk_data...\n",
      "[nltk_data]   Package stopwords is already up-to-date!\n"
     ]
    }
   ],
   "source": [
    "import re\n",
    "nltk.download('stopwords')\n",
    "from nltk.corpus import stopwords"
   ]
  },
  {
   "cell_type": "code",
   "execution_count": 10,
   "metadata": {},
   "outputs": [
    {
     "name": "stdout",
     "output_type": "stream",
     "text": [
      "['i', 'me', 'my', 'myself', 'we', 'our', 'ours', 'ourselves', 'you', \"you're\", \"you've\", \"you'll\", \"you'd\", 'your', 'yours', 'yourself', 'yourselves', 'he', 'him', 'his', 'himself', 'she', \"she's\", 'her', 'hers', 'herself', 'it', \"it's\", 'its', 'itself', 'they', 'them', 'their', 'theirs', 'themselves', 'what', 'which', 'who', 'whom', 'this', 'that', \"that'll\", 'these', 'those', 'am', 'is', 'are', 'was', 'were', 'be', 'been', 'being', 'have', 'has', 'had', 'having', 'do', 'does', 'did', 'doing', 'a', 'an', 'the', 'and', 'but', 'if', 'or', 'because', 'as', 'until', 'while', 'of', 'at', 'by', 'for', 'with', 'about', 'against', 'between', 'into', 'through', 'during', 'before', 'after', 'above', 'below', 'to', 'from', 'up', 'down', 'in', 'out', 'on', 'off', 'over', 'under', 'again', 'further', 'then', 'once', 'here', 'there', 'when', 'where', 'why', 'how', 'all', 'any', 'both', 'each', 'few', 'more', 'most', 'other', 'some', 'such', 'no', 'nor', 'not', 'only', 'own', 'same', 'so', 'than', 'too', 'very', 's', 't', 'can', 'will', 'just', 'don', \"don't\", 'should', \"should've\", 'now', 'd', 'll', 'm', 'o', 're', 've', 'y', 'ain', 'aren', \"aren't\", 'couldn', \"couldn't\", 'didn', \"didn't\", 'doesn', \"doesn't\", 'hadn', \"hadn't\", 'hasn', \"hasn't\", 'haven', \"haven't\", 'isn', \"isn't\", 'ma', 'mightn', \"mightn't\", 'mustn', \"mustn't\", 'needn', \"needn't\", 'shan', \"shan't\", 'shouldn', \"shouldn't\", 'wasn', \"wasn't\", 'weren', \"weren't\", 'won', \"won't\", 'wouldn', \"wouldn't\"]\n"
     ]
    }
   ],
   "source": [
    "print(stopwords.words('english'))"
   ]
  },
  {
   "cell_type": "code",
   "execution_count": 11,
   "metadata": {
    "collapsed": true
   },
   "outputs": [],
   "source": [
    "REPLACE_BY_SPACE_RE = re.compile('[/(){}\\[\\]\\|@,;]')\n",
    "BAD_SYMBOLS_RE = re.compile('[^0-9a-z #+_]')\n",
    "STOPWORDS = set(stopwords.words('english'))\n",
    "\n",
    "def text_prepare(text):\n",
    "    \"\"\"\n",
    "        text: a string\n",
    "        return: modified initial string\n",
    "    \"\"\"\n",
    "    text = text.lower() # lowercase text\n",
    "    text = REPLACE_BY_SPACE_RE.sub(' ', text) # replace REPLACE_BY_SPACE_RE symbols by space in text\n",
    "    text = BAD_SYMBOLS_RE.sub('', text) # delete symbols which are in BAD_SYMBOLS_RE from text\n",
    "    text = ' '.join([word for word in text.split() if word not in STOPWORDS]) # delete stopwords from text\n",
    "    return text"
   ]
  },
  {
   "cell_type": "code",
   "execution_count": 12,
   "metadata": {},
   "outputs": [
    {
     "name": "stdout",
     "output_type": "stream",
     "text": [
      "Basic tests are passed.\n"
     ]
    }
   ],
   "source": [
    "def test_text_prepare():\n",
    "    examples = [\"SQL Server - any equivalent of Excel's CHOOSE function?\",\n",
    "                \"How to free c++ memory vector<int> * arr?\"]\n",
    "    answers = [\"sql server equivalent excels choose function\", \n",
    "               \"free c++ memory vectorint arr\"]\n",
    "    for ex, ans in zip(examples, answers):\n",
    "        if text_prepare(ex) != ans:\n",
    "            print('ans:', ans)\n",
    "            print('text_prepare(ex):', text_prepare(ex))\n",
    "            return \"Wrong answer for the case: '%s'\" % ex\n",
    "    return 'Basic tests are passed.'\n",
    "\n",
    "print(test_text_prepare())"
   ]
  },
  {
   "cell_type": "markdown",
   "metadata": {},
   "source": [
    "Now apply the preprocessing function on our data (X_train & X_test)"
   ]
  },
  {
   "cell_type": "code",
   "execution_count": 13,
   "metadata": {
    "collapsed": true
   },
   "outputs": [],
   "source": [
    "X_train = [text_prepare(x) for x in X_train]\n",
    "X_test = [text_prepare(x) for x in X_test]"
   ]
  },
  {
   "cell_type": "markdown",
   "metadata": {
    "collapsed": true
   },
   "source": [
    "## Transforming text to vector of numbers (Bag of Words)\n",
    "**Task 2:** get a list of all unique words in out training data (let's call it vocabulary)"
   ]
  },
  {
   "cell_type": "code",
   "execution_count": 14,
   "metadata": {
    "collapsed": true
   },
   "outputs": [],
   "source": [
    "def get_vocabulary(sentences):\n",
    "    \"\"\" Given several sentences, extract all unique words sorted from a to z\n",
    "    params:\n",
    "        sentences: list of strings\n",
    "    returns:\n",
    "        list of all unique words in sentences sorted from a to z\n",
    "    example:\n",
    "        if sentences = ['i liked the movie', 'the movie was great']\n",
    "        output should be = ['great', 'i', 'liked', 'movie', 'the', 'was']\n",
    "    \"\"\"\n",
    "    words = []\n",
    "    for sentence in sentences:\n",
    "        w = sentence.split()\n",
    "        words.extend(w)    \n",
    "    words = sorted(list(set(words)))\n",
    "    return words"
   ]
  },
  {
   "cell_type": "markdown",
   "metadata": {},
   "source": [
    "**Let's test our implementation of get_vocabulary function:**"
   ]
  },
  {
   "cell_type": "code",
   "execution_count": 15,
   "metadata": {},
   "outputs": [
    {
     "name": "stdout",
     "output_type": "stream",
     "text": [
      "Basic tests are passed :)\n"
     ]
    }
   ],
   "source": [
    "def test_get_vocabulary():\n",
    "    examples = ['i liked the movie', 'the movie was great']\n",
    "    answers = ['great', 'i', 'liked', 'movie', 'the', 'was']\n",
    "    vocab = get_vocabulary(examples)\n",
    "    if vocab != answers:\n",
    "        print('correct output >>', answers)\n",
    "        print('your output >>', vocab)\n",
    "        print('please go back and update get_vocabulary function')\n",
    "    else:\n",
    "        print('Basic tests are passed :)')\n",
    "\n",
    "test_get_vocabulary()"
   ]
  },
  {
   "cell_type": "markdown",
   "metadata": {},
   "source": [
    "**Apply the function to our training data:**"
   ]
  },
  {
   "cell_type": "code",
   "execution_count": 16,
   "metadata": {},
   "outputs": [
    {
     "name": "stdout",
     "output_type": "stream",
     "text": [
      "# unique words: 12249\n"
     ]
    }
   ],
   "source": [
    "vocabulary = get_vocabulary(X_train)\n",
    "print('# unique words:',len(vocabulary))"
   ]
  },
  {
   "cell_type": "markdown",
   "metadata": {},
   "source": [
    "Once we have vocabulary (unique words), we can get BoW and convert out text to vectors. <br>\n",
    "**Task 3:** implement bag_of_words function"
   ]
  },
  {
   "cell_type": "code",
   "execution_count": 17,
   "metadata": {
    "collapsed": true
   },
   "outputs": [],
   "source": [
    "def bag_of_words(sentences, vocabulary):\n",
    "    \"\"\"\n",
    "    params:\n",
    "        sentences: list of strings\n",
    "        vocabulary: list of all unique words\n",
    "    returns:\n",
    "        bag of words of the input sentences: numpy array of shape (#sentences, #vocabulary)\n",
    "    \"\"\"\n",
    "    bow = np.zeros((len(sentences), len(vocabulary)), dtype=np.int8)\n",
    "    for index, sentence in enumerate(sentences):\n",
    "        tokens = sentence.split()\n",
    "        for token in tokens:\n",
    "            if token in vocabulary:\n",
    "                bow[index, vocabulary.index(token)] = 1\n",
    "    return bow"
   ]
  },
  {
   "cell_type": "markdown",
   "metadata": {},
   "source": [
    "**Let's test our implementation of bag_of_words function:**"
   ]
  },
  {
   "cell_type": "code",
   "execution_count": 18,
   "metadata": {},
   "outputs": [
    {
     "name": "stdout",
     "output_type": "stream",
     "text": [
      "Basic tests are passed :)\n"
     ]
    },
    {
     "data": {
      "text/html": [
       "<div>\n",
       "<style>\n",
       "    .dataframe thead tr:only-child th {\n",
       "        text-align: right;\n",
       "    }\n",
       "\n",
       "    .dataframe thead th {\n",
       "        text-align: left;\n",
       "    }\n",
       "\n",
       "    .dataframe tbody tr th {\n",
       "        vertical-align: top;\n",
       "    }\n",
       "</style>\n",
       "<table border=\"1\" class=\"dataframe\">\n",
       "  <thead>\n",
       "    <tr style=\"text-align: right;\">\n",
       "      <th></th>\n",
       "      <th>a</th>\n",
       "      <th>complex</th>\n",
       "      <th>field</th>\n",
       "      <th>great</th>\n",
       "      <th>in</th>\n",
       "      <th>is</th>\n",
       "      <th>language</th>\n",
       "      <th>learning</th>\n",
       "      <th>machine</th>\n",
       "      <th>natural</th>\n",
       "      <th>processing</th>\n",
       "      <th>used</th>\n",
       "    </tr>\n",
       "  </thead>\n",
       "  <tbody>\n",
       "    <tr>\n",
       "      <th>machine learning is great</th>\n",
       "      <td>0</td>\n",
       "      <td>0</td>\n",
       "      <td>0</td>\n",
       "      <td>1</td>\n",
       "      <td>0</td>\n",
       "      <td>1</td>\n",
       "      <td>0</td>\n",
       "      <td>1</td>\n",
       "      <td>1</td>\n",
       "      <td>0</td>\n",
       "      <td>0</td>\n",
       "      <td>0</td>\n",
       "    </tr>\n",
       "    <tr>\n",
       "      <th>natural language processing is a complex field</th>\n",
       "      <td>1</td>\n",
       "      <td>1</td>\n",
       "      <td>1</td>\n",
       "      <td>0</td>\n",
       "      <td>0</td>\n",
       "      <td>1</td>\n",
       "      <td>1</td>\n",
       "      <td>0</td>\n",
       "      <td>0</td>\n",
       "      <td>1</td>\n",
       "      <td>1</td>\n",
       "      <td>0</td>\n",
       "    </tr>\n",
       "    <tr>\n",
       "      <th>natural language processing is used in machine learning</th>\n",
       "      <td>0</td>\n",
       "      <td>0</td>\n",
       "      <td>0</td>\n",
       "      <td>0</td>\n",
       "      <td>1</td>\n",
       "      <td>1</td>\n",
       "      <td>1</td>\n",
       "      <td>1</td>\n",
       "      <td>1</td>\n",
       "      <td>1</td>\n",
       "      <td>1</td>\n",
       "      <td>1</td>\n",
       "    </tr>\n",
       "  </tbody>\n",
       "</table>\n",
       "</div>"
      ],
      "text/plain": [
       "                                                    a  complex  field  great  \\\n",
       "machine learning is great                           0        0      0      1   \n",
       "natural language processing is a complex field      1        1      1      0   \n",
       "natural language processing is used in machine ...  0        0      0      0   \n",
       "\n",
       "                                                    in  is  language  \\\n",
       "machine learning is great                            0   1         0   \n",
       "natural language processing is a complex field       0   1         1   \n",
       "natural language processing is used in machine ...   1   1         1   \n",
       "\n",
       "                                                    learning  machine  \\\n",
       "machine learning is great                                  1        1   \n",
       "natural language processing is a complex field             0        0   \n",
       "natural language processing is used in machine ...         1        1   \n",
       "\n",
       "                                                    natural  processing  used  \n",
       "machine learning is great                                 0           0     0  \n",
       "natural language processing is a complex field            1           1     0  \n",
       "natural language processing is used in machine ...        1           1     1  "
      ]
     },
     "metadata": {},
     "output_type": "display_data"
    }
   ],
   "source": [
    "from IPython.display import display\n",
    "\n",
    "def test_bag_of_words():\n",
    "    docs = ['machine learning is great',\n",
    "           'natural language processing is a complex field',\n",
    "           'natural language processing is used in machine learning']\n",
    "    bow_true = np.array([[0,0,0,1,0,1,0,1,1,0,0,0],[1,1,1,0,0,1,1,0,0,1,1,0],[0,0,0,0,1,1,1,1,1,1,1,1]])\n",
    "    vocab = get_vocabulary(docs)\n",
    "    if vocab != ['a', 'complex', 'field', 'great', 'in', 'is', 'language', 'learning', 'machine', 'natural', 'processing', 'used']:\n",
    "        print('Error in get_vocabulary function!')\n",
    "        return\n",
    "    bow = bag_of_words(docs, vocab)\n",
    "    if np.array_equal(bow, bow_true) == False:\n",
    "        print('Something went wrong :( re-check your implementation!')\n",
    "    else:\n",
    "        print('Basic tests are passed :)')\n",
    "        df = pd.DataFrame(data=bow, columns=vocab, index=docs)\n",
    "        display(df.head())\n",
    "\n",
    "test_bag_of_words()"
   ]
  },
  {
   "cell_type": "markdown",
   "metadata": {},
   "source": [
    "**Apply bag_of_words function to our train & test data:**"
   ]
  },
  {
   "cell_type": "code",
   "execution_count": 19,
   "metadata": {
    "collapsed": true
   },
   "outputs": [],
   "source": [
    "X_train_mybag = bag_of_words(X_train, vocabulary)\n",
    "X_test_mybag = bag_of_words(X_test, vocabulary)"
   ]
  },
  {
   "cell_type": "code",
   "execution_count": 20,
   "metadata": {},
   "outputs": [
    {
     "name": "stdout",
     "output_type": "stream",
     "text": [
      "(20000, 12249) (5000, 12249)\n"
     ]
    }
   ],
   "source": [
    "print(X_train_mybag.shape, X_test_mybag.shape)"
   ]
  },
  {
   "cell_type": "code",
   "execution_count": 21,
   "metadata": {
    "collapsed": true
   },
   "outputs": [],
   "source": [
    "from scipy import sparse as sp_sparse\n",
    "\n",
    "X_train_mybag_sparse = sp_sparse.vstack([sp_sparse.csr_matrix(bow) for bow in X_train_mybag])\n",
    "X_test_mybag_sparse = sp_sparse.vstack([sp_sparse.csr_matrix(bow) for bow in X_test_mybag])"
   ]
  },
  {
   "cell_type": "markdown",
   "metadata": {
    "collapsed": true
   },
   "source": [
    "### FYI\n",
    "Bag of words is a very common approach in NLP. Therefore, there is off-the-shelf implementation in python. For more info, check the following scikit-learn functions: [CountVectorizer](http://scikit-learn.org/stable/modules/generated/sklearn.feature_extraction.text.CountVectorizer.html), [TfidfVectorizer](http://scikit-learn.org/stable/modules/generated/sklearn.feature_extraction.text.TfidfVectorizer.html), [HashingVectorizer](http://scikit-learn.org/stable/modules/generated/sklearn.feature_extraction.text.HashingVectorizer.html), ... etc."
   ]
  },
  {
   "cell_type": "code",
   "execution_count": 23,
   "metadata": {},
   "outputs": [
    {
     "data": {
      "text/html": [
       "<div>\n",
       "<style>\n",
       "    .dataframe thead tr:only-child th {\n",
       "        text-align: right;\n",
       "    }\n",
       "\n",
       "    .dataframe thead th {\n",
       "        text-align: left;\n",
       "    }\n",
       "\n",
       "    .dataframe tbody tr th {\n",
       "        vertical-align: top;\n",
       "    }\n",
       "</style>\n",
       "<table border=\"1\" class=\"dataframe\">\n",
       "  <thead>\n",
       "    <tr style=\"text-align: right;\">\n",
       "      <th></th>\n",
       "      <th>a</th>\n",
       "      <th>complex</th>\n",
       "      <th>field</th>\n",
       "      <th>great</th>\n",
       "      <th>in</th>\n",
       "      <th>is</th>\n",
       "      <th>language</th>\n",
       "      <th>learning</th>\n",
       "      <th>machine</th>\n",
       "      <th>natural</th>\n",
       "      <th>processing</th>\n",
       "      <th>used</th>\n",
       "    </tr>\n",
       "  </thead>\n",
       "  <tbody>\n",
       "    <tr>\n",
       "      <th>machine learning is great</th>\n",
       "      <td>0</td>\n",
       "      <td>0</td>\n",
       "      <td>0</td>\n",
       "      <td>1</td>\n",
       "      <td>0</td>\n",
       "      <td>1</td>\n",
       "      <td>0</td>\n",
       "      <td>1</td>\n",
       "      <td>1</td>\n",
       "      <td>0</td>\n",
       "      <td>0</td>\n",
       "      <td>0</td>\n",
       "    </tr>\n",
       "    <tr>\n",
       "      <th>natural language processing is a complex field</th>\n",
       "      <td>1</td>\n",
       "      <td>1</td>\n",
       "      <td>1</td>\n",
       "      <td>0</td>\n",
       "      <td>0</td>\n",
       "      <td>1</td>\n",
       "      <td>1</td>\n",
       "      <td>0</td>\n",
       "      <td>0</td>\n",
       "      <td>1</td>\n",
       "      <td>1</td>\n",
       "      <td>0</td>\n",
       "    </tr>\n",
       "    <tr>\n",
       "      <th>natural language processing is used in machine learning</th>\n",
       "      <td>0</td>\n",
       "      <td>0</td>\n",
       "      <td>0</td>\n",
       "      <td>0</td>\n",
       "      <td>1</td>\n",
       "      <td>1</td>\n",
       "      <td>1</td>\n",
       "      <td>1</td>\n",
       "      <td>1</td>\n",
       "      <td>1</td>\n",
       "      <td>1</td>\n",
       "      <td>1</td>\n",
       "    </tr>\n",
       "  </tbody>\n",
       "</table>\n",
       "</div>"
      ],
      "text/plain": [
       "                                                    a  complex  field  great  \\\n",
       "machine learning is great                           0        0      0      1   \n",
       "natural language processing is a complex field      1        1      1      0   \n",
       "natural language processing is used in machine ...  0        0      0      0   \n",
       "\n",
       "                                                    in  is  language  \\\n",
       "machine learning is great                            0   1         0   \n",
       "natural language processing is a complex field       0   1         1   \n",
       "natural language processing is used in machine ...   1   1         1   \n",
       "\n",
       "                                                    learning  machine  \\\n",
       "machine learning is great                                  1        1   \n",
       "natural language processing is a complex field             0        0   \n",
       "natural language processing is used in machine ...         1        1   \n",
       "\n",
       "                                                    natural  processing  used  \n",
       "machine learning is great                                 0           0     0  \n",
       "natural language processing is a complex field            1           1     0  \n",
       "natural language processing is used in machine ...        1           1     1  "
      ]
     },
     "metadata": {},
     "output_type": "display_data"
    }
   ],
   "source": [
    "from sklearn.feature_extraction.text import CountVectorizer\n",
    "\n",
    "docs = ['machine learning is great',\n",
    "           'natural language processing is a complex field',\n",
    "           'natural language processing is used in machine learning']\n",
    "\n",
    "v = CountVectorizer(binary=True, token_pattern='\\\\w+')\n",
    "o = v.fit_transform(docs)\n",
    "\n",
    "cols = sorted(v.vocabulary_.keys())\n",
    "df = pd.DataFrame(data=o.toarray(), columns=cols, index=docs)\n",
    "display(df.head())"
   ]
  },
  {
   "cell_type": "markdown",
   "metadata": {
    "collapsed": true
   },
   "source": [
    "## Classification"
   ]
  },
  {
   "cell_type": "code",
   "execution_count": 26,
   "metadata": {},
   "outputs": [
    {
     "data": {
      "text/plain": [
       "OneVsRestClassifier(estimator=LogisticRegression(C=1.0, class_weight=None, dual=False, fit_intercept=True,\n",
       "          intercept_scaling=1, max_iter=100, multi_class='ovr', n_jobs=1,\n",
       "          penalty='l2', random_state=None, solver='liblinear', tol=0.0001,\n",
       "          verbose=0, warm_start=False),\n",
       "          n_jobs=1)"
      ]
     },
     "execution_count": 26,
     "metadata": {},
     "output_type": "execute_result"
    }
   ],
   "source": [
    "from sklearn.preprocessing import MultiLabelBinarizer\n",
    "from sklearn.multiclass import OneVsRestClassifier\n",
    "from sklearn.linear_model import LogisticRegression, RidgeClassifier\n",
    "\n",
    "# prepare labels\n",
    "all_tags = []\n",
    "for tags in y_train:\n",
    "    for tag in tags:\n",
    "        if tag not in all_tags: all_tags.append(tag)\n",
    "\n",
    "mlb = MultiLabelBinarizer(classes=sorted(all_tags))\n",
    "y_train = mlb.fit_transform(y_train)\n",
    "y_test = mlb.fit_transform(y_test)\n",
    "\n",
    "# train classifier\n",
    "classif = OneVsRestClassifier(LogisticRegression())\n",
    "classif.fit(X_train_mybag_sparse, y_train)"
   ]
  },
  {
   "cell_type": "markdown",
   "metadata": {},
   "source": [
    "## Prediction"
   ]
  },
  {
   "cell_type": "code",
   "execution_count": 30,
   "metadata": {},
   "outputs": [
    {
     "name": "stdout",
     "output_type": "stream",
     "text": [
      "0\n",
      "Title:\todbc_exec always fail\n",
      "True labels:\tphp,sql\n",
      "Predicted labels:\t\n",
      "\n",
      "\n",
      "1\n",
      "Title:\taccess base classes variable within child class\n",
      "True labels:\tjavascript\n",
      "Predicted labels:\t\n",
      "\n",
      "\n",
      "2\n",
      "Title:\tcontenttype application json required rails\n",
      "True labels:\truby,ruby-on-rails\n",
      "Predicted labels:\tjson,ruby-on-rails\n",
      "\n",
      "\n",
      "3\n",
      "Title:\tsessions sinatra used pass variable\n",
      "True labels:\truby,session\n",
      "Predicted labels:\t\n",
      "\n",
      "\n",
      "4\n",
      "Title:\tgetting error type json exist postgresql rake db migrate\n",
      "True labels:\tjson,ruby,ruby-on-rails\n",
      "Predicted labels:\tjson\n",
      "\n",
      "\n",
      "5\n",
      "Title:\tlibrary found\n",
      "True labels:\tc++,ios,iphone,xcode\n",
      "Predicted labels:\t\n",
      "\n",
      "\n",
      "6\n",
      "Title:\tcsproj file programmatic adding deleting files\n",
      "True labels:\tc#\n",
      "Predicted labels:\t\n",
      "\n",
      "\n",
      "7\n",
      "Title:\ttypeerror makedirs got unexpected keyword argument exists_ok\n",
      "True labels:\tdjango,python\n",
      "Predicted labels:\tpython\n",
      "\n",
      "\n",
      "8\n",
      "Title:\tpan div using jquery\n",
      "True labels:\thtml,javascript,jquery\n",
      "Predicted labels:\tjavascript,jquery\n",
      "\n",
      "\n",
      "9\n",
      "Title:\thibernate intermediate advanced tutorials\n",
      "True labels:\thibernate,java\n",
      "Predicted labels:\thibernate,java\n",
      "\n",
      "\n",
      "10\n",
      "Title:\tc# properties access values another function class\n",
      "True labels:\t.net,c#,class\n",
      "Predicted labels:\tc#\n",
      "\n",
      "\n",
      "11\n",
      "Title:\tuse databinding 3d elements like visual3d uielement3d\n",
      "True labels:\tc#,wpf\n",
      "Predicted labels:\t\n",
      "\n",
      "\n",
      "12\n",
      "Title:\tcheck video exists youtube using php\n",
      "True labels:\tphp\n",
      "Predicted labels:\tphp\n",
      "\n",
      "\n",
      "13\n",
      "Title:\thandle mouse dragging event jfreechart\n",
      "True labels:\tjava\n",
      "Predicted labels:\t\n",
      "\n",
      "\n",
      "14\n",
      "Title:\tdynamic data matrix wpf\n",
      "True labels:\tc#,wpf\n",
      "Predicted labels:\tc#,wpf\n",
      "\n",
      "\n",
      "15\n",
      "Title:\twpf button external background image\n",
      "True labels:\tc#,wpf\n",
      "Predicted labels:\tc#,wpf\n",
      "\n",
      "\n",
      "16\n",
      "Title:\tisdigit rational numbers\n",
      "True labels:\tpython,string\n",
      "Predicted labels:\t\n",
      "\n",
      "\n",
      "17\n",
      "Title:\tmake clicked tab active bootstrap\n",
      "True labels:\tdjango,twitter-bootstrap\n",
      "Predicted labels:\tjavascript,jquery,twitter-bootstrap\n",
      "\n",
      "\n",
      "18\n",
      "Title:\tunable load class comgooglegsonjsonobject\n",
      "True labels:\tandroid,java\n",
      "Predicted labels:\t\n",
      "\n",
      "\n",
      "19\n",
      "Title:\tdetermine string valid float value\n",
      "True labels:\truby,ruby-on-rails\n",
      "Predicted labels:\t\n",
      "\n",
      "\n",
      "20\n",
      "Title:\tphp equivalent javascript gettime\n",
      "True labels:\tdatetime,javascript,php\n",
      "Predicted labels:\tjavascript,php\n",
      "\n",
      "\n",
      "21\n",
      "Title:\tunknown python expression filenamer path file\n",
      "True labels:\tpython,string\n",
      "Predicted labels:\tpython\n",
      "\n",
      "\n",
      "22\n",
      "Title:\tfind index first uppercase character\n",
      "True labels:\tc#,linq,string\n",
      "Predicted labels:\t\n",
      "\n",
      "\n",
      "23\n",
      "Title:\tandroid webviewloaddatawithbaseurl fail render javascript\n",
      "True labels:\tandroid,javascript\n",
      "Predicted labels:\tandroid,javascript\n",
      "\n",
      "\n",
      "24\n",
      "Title:\tremoving lines within filledcontour legend\n",
      "True labels:\tr\n",
      "Predicted labels:\t\n",
      "\n",
      "\n",
      "25\n",
      "Title:\tstop disable internet access java\n",
      "True labels:\tjava\n",
      "Predicted labels:\tjava\n",
      "\n",
      "\n",
      "26\n",
      "Title:\ttranslate function names django admin\n",
      "True labels:\tdjango\n",
      "Predicted labels:\tdjango\n",
      "\n",
      "\n",
      "27\n",
      "Title:\toracle jdbc euro character\n",
      "True labels:\tdatabase,java\n",
      "Predicted labels:\tjava\n",
      "\n",
      "\n",
      "28\n",
      "Title:\trspec controller tests put update action nested resource\n",
      "True labels:\truby-on-rails\n",
      "Predicted labels:\truby-on-rails\n",
      "\n",
      "\n",
      "29\n",
      "Title:\tjava objectinputstream\n",
      "True labels:\tjava\n",
      "Predicted labels:\tjava\n",
      "\n",
      "\n",
      "30\n",
      "Title:\tajax data uncaught referenceerror date defined\n",
      "True labels:\tajax,javascript,jquery\n",
      "Predicted labels:\tajax,javascript,jquery\n",
      "\n",
      "\n",
      "31\n",
      "Title:\tlifecycle method fragment execute asynctask\n",
      "True labels:\tandroid,java\n",
      "Predicted labels:\tandroid,java\n",
      "\n",
      "\n",
      "32\n",
      "Title:\tunuse namespace\n",
      "True labels:\tc++\n",
      "Predicted labels:\t\n",
      "\n",
      "\n",
      "33\n",
      "Title:\tremove html tags format text returns spaces etc using net\n",
      "True labels:\t.net,c#,html\n",
      "Predicted labels:\tc#\n",
      "\n",
      "\n",
      "34\n",
      "Title:\tinitialization makes pointer integer without cast c\n",
      "True labels:\tc,pointers\n",
      "Predicted labels:\tc,pointers\n",
      "\n",
      "\n",
      "35\n",
      "Title:\tgetting list every listeners symfony2\n",
      "True labels:\tphp\n",
      "Predicted labels:\t\n",
      "\n",
      "\n",
      "36\n",
      "Title:\tr align time series different frequencies\n",
      "True labels:\tcsv,r\n",
      "Predicted labels:\tr\n",
      "\n",
      "\n",
      "37\n",
      "Title:\tinsert picture database sqlite java code\n",
      "True labels:\tjava,sql\n",
      "Predicted labels:\tjava\n",
      "\n",
      "\n",
      "38\n",
      "Title:\tgroup clause linq\n",
      "True labels:\tc#,linq\n",
      "Predicted labels:\tc#,linq\n",
      "\n",
      "\n",
      "39\n",
      "Title:\tjavascript code explanation e etarget windowevent windoweventsrcelement\n",
      "True labels:\thtml,javascript\n",
      "Predicted labels:\tjavascript\n",
      "\n",
      "\n",
      "40\n",
      "Title:\tfind second highest variable array\n",
      "True labels:\tphp\n",
      "Predicted labels:\tarrays\n",
      "\n",
      "\n",
      "41\n",
      "Title:\thide statusbar uitabbarcontroller enters landscape mode\n",
      "True labels:\tios,iphone,objective-c\n",
      "Predicted labels:\t\n",
      "\n",
      "\n",
      "42\n",
      "Title:\tconverting audio files preserving album artwork ffmpeg\n",
      "True labels:\tphp\n",
      "Predicted labels:\t\n",
      "\n",
      "\n",
      "43\n",
      "Title:\tlinq optimizations iorderedenumerable\n",
      "True labels:\t.net,c#,linq\n",
      "Predicted labels:\tc#,linq\n",
      "\n",
      "\n",
      "44\n",
      "Title:\tadonet concurrent connections max pool size timeout error\n",
      "True labels:\tc#,multithreading,sockets\n",
      "Predicted labels:\tc#\n",
      "\n",
      "\n",
      "45\n",
      "Title:\twindowonload fired\n",
      "True labels:\tjavascript\n",
      "Predicted labels:\t\n",
      "\n",
      "\n",
      "46\n",
      "Title:\tdelete cookie codeigniter\n",
      "True labels:\tcodeigniter,php\n",
      "Predicted labels:\tcodeigniter,php\n",
      "\n",
      "\n",
      "47\n",
      "Title:\ttestng fails load test classes ant\n",
      "True labels:\tjava\n",
      "Predicted labels:\tjava\n",
      "\n",
      "\n",
      "48\n",
      "Title:\tget wordpress user profile url link id\n",
      "True labels:\tjquery,php,wordpress\n",
      "Predicted labels:\tphp,wordpress\n",
      "\n",
      "\n",
      "49\n",
      "Title:\terror mean somefilec200 error frame size 1032 bytes larger 1024 bytes\n",
      "True labels:\tc\n",
      "Predicted labels:\t\n",
      "\n",
      "\n",
      "50\n",
      "Title:\tfooter dont change opencart\n",
      "True labels:\thtml,php\n",
      "Predicted labels:\t\n",
      "\n",
      "\n",
      "51\n",
      "Title:\tpool empty unable fetch connection 10 seconds\n",
      "True labels:\tjava\n",
      "Predicted labels:\t\n",
      "\n",
      "\n",
      "52\n",
      "Title:\tprogramatically finding message box generating click button\n",
      "True labels:\t.net,c#,winforms\n",
      "Predicted labels:\t\n",
      "\n",
      "\n",
      "53\n",
      "Title:\tensure php script ever run cron job\n",
      "True labels:\tphp\n",
      "Predicted labels:\tphp\n",
      "\n",
      "\n",
      "54\n",
      "Title:\tstatementsetfetchsize nsize method really sql server jdbc driver\n",
      "True labels:\tjava,sql-server\n",
      "Predicted labels:\tjava,sql\n",
      "\n",
      "\n",
      "55\n",
      "Title:\tremove add functionality django admin\n",
      "True labels:\tdjango,python\n",
      "Predicted labels:\tdjango,python\n",
      "\n",
      "\n",
      "56\n",
      "Title:\tpassing multple files asterisk python shell windows\n",
      "True labels:\tpython\n",
      "Predicted labels:\tpython\n",
      "\n",
      "\n",
      "57\n",
      "Title:\tinheritance templates c++ methods invisible\n",
      "True labels:\tc++\n",
      "Predicted labels:\tc++\n",
      "\n",
      "\n",
      "58\n",
      "Title:\tservlet init method equivalent jaxrs\n",
      "True labels:\tjava,servlets\n",
      "Predicted labels:\tjava\n",
      "\n",
      "\n",
      "59\n",
      "Title:\tfile load zip zip missingsourcefile running cucumber\n",
      "True labels:\truby-on-rails\n",
      "Predicted labels:\t\n",
      "\n",
      "\n",
      "60\n",
      "Title:\tdeploy ror heroku sqlite3 fails\n",
      "True labels:\truby-on-rails,ruby-on-rails-3\n",
      "Predicted labels:\truby-on-rails\n",
      "\n",
      "\n",
      "61\n",
      "Title:\topen submenu click parent\n",
      "True labels:\tcss,javascript,jquery\n",
      "Predicted labels:\tjavascript\n",
      "\n",
      "\n",
      "62\n",
      "Title:\tencrypt decrypt aes algorithm python android\n",
      "True labels:\tandroid,python\n",
      "Predicted labels:\tandroid,python\n",
      "\n",
      "\n",
      "63\n",
      "Title:\tretrying method call database\n",
      "True labels:\tc#\n",
      "Predicted labels:\t\n",
      "\n",
      "\n",
      "64\n",
      "Title:\tjavamathbiginteger cannot cast javalanginteger\n",
      "True labels:\thibernate,java,mysql,sql\n",
      "Predicted labels:\t\n",
      "\n",
      "\n",
      "65\n",
      "Title:\tvirtual c++ method implementation cpp file marked virtual\n",
      "True labels:\tc++,oop\n",
      "Predicted labels:\tc++\n",
      "\n",
      "\n",
      "66\n",
      "Title:\tcannot convert value type error swift3\n",
      "True labels:\tios,swift\n",
      "Predicted labels:\t\n",
      "\n",
      "\n",
      "67\n",
      "Title:\twindow transparent client area\n",
      "True labels:\tc++\n",
      "Predicted labels:\t\n",
      "\n",
      "\n",
      "68\n",
      "Title:\tcant use jquery prop get css setting\n",
      "True labels:\tjavascript,jquery\n",
      "Predicted labels:\tcss,javascript,jquery\n",
      "\n",
      "\n",
      "69\n",
      "Title:\tcompare two ienumerable collections using linq\n",
      "True labels:\tc#,linq,wpf\n",
      "Predicted labels:\tc#,linq\n",
      "\n",
      "\n",
      "70\n",
      "Title:\tmerging dataframes pandas keep getting key error\n",
      "True labels:\tpandas,python\n",
      "Predicted labels:\tpandas,python\n",
      "\n",
      "\n",
      "71\n",
      "Title:\tsync iframe source code textarea element\n",
      "True labels:\thtml,javascript\n",
      "Predicted labels:\thtml,javascript\n",
      "\n",
      "\n",
      "72\n",
      "Title:\tadding scroll table body fixed header angularjs\n",
      "True labels:\tangularjs,css,html,javascript\n",
      "Predicted labels:\tangularjs,javascript,jquery\n",
      "\n",
      "\n",
      "73\n",
      "Title:\tsave image progressive image using paperclip\n",
      "True labels:\timage,ruby-on-rails\n",
      "Predicted labels:\t\n",
      "\n",
      "\n",
      "74\n",
      "Title:\teclipse updates referenced library jar picked\n",
      "True labels:\teclipse,java\n",
      "Predicted labels:\teclipse,java\n",
      "\n",
      "\n",
      "75\n",
      "Title:\tset entity doctrine database view symfony 2\n",
      "True labels:\tmysql,php\n",
      "Predicted labels:\tphp\n",
      "\n",
      "\n",
      "76\n",
      "Title:\tjavascript vbscript sql database\n",
      "True labels:\tdatabase,javascript,mysql\n",
      "Predicted labels:\tjavascript\n",
      "\n",
      "\n",
      "77\n",
      "Title:\trelative paths winform aspnet app\n",
      "True labels:\tasp.net,c#,winforms\n",
      "Predicted labels:\tasp.net,c#\n",
      "\n",
      "\n",
      "78\n",
      "Title:\tannotations optional attributes\n",
      "True labels:\tjava\n",
      "Predicted labels:\t\n",
      "\n",
      "\n",
      "79\n",
      "Title:\tcounting occurrences key map java\n",
      "True labels:\tjava\n",
      "Predicted labels:\tjava\n",
      "\n",
      "\n"
     ]
    }
   ],
   "source": [
    "y_val_predicted_labels_mybag = classif.predict(X_test_mybag_sparse)\n",
    "y_val_predicted_scores_mybag = classif.decision_function(X_test_mybag_sparse)\n",
    "\n",
    "y_val_pred_inversed = mlb.inverse_transform(y_val_predicted_labels_mybag)\n",
    "y_val_inversed = mlb.inverse_transform(y_test)\n",
    "for i in range(80):\n",
    "    print('{}\\nTitle:\\t{}\\nTrue labels:\\t{}\\nPredicted labels:\\t{}\\n\\n'.format(\n",
    "        i,\n",
    "        X_test[i],\n",
    "        ','.join(y_val_inversed[i]),\n",
    "        ','.join(y_val_pred_inversed[i])\n",
    "    ))\n",
    "\n",
    "# good : 28, 30, 31, 33, 34, 38, 46, 60, 70, 71, 72, 74\n",
    "# bad  : 41, 64, 66, 0, 6, 24, 32, 35"
   ]
  },
  {
   "cell_type": "code",
   "execution_count": 39,
   "metadata": {},
   "outputs": [
    {
     "name": "stdout",
     "output_type": "stream",
     "text": [
      "Good Examples:\n"
     ]
    },
    {
     "data": {
      "text/html": [
       "<div>\n",
       "<style>\n",
       "    .dataframe thead tr:only-child th {\n",
       "        text-align: right;\n",
       "    }\n",
       "\n",
       "    .dataframe thead th {\n",
       "        text-align: left;\n",
       "    }\n",
       "\n",
       "    .dataframe tbody tr th {\n",
       "        vertical-align: top;\n",
       "    }\n",
       "</style>\n",
       "<table border=\"1\" class=\"dataframe\">\n",
       "  <thead>\n",
       "    <tr style=\"text-align: right;\">\n",
       "      <th></th>\n",
       "      <th>title</th>\n",
       "      <th>True labels</th>\n",
       "      <th>Predicted labels</th>\n",
       "    </tr>\n",
       "  </thead>\n",
       "  <tbody>\n",
       "    <tr>\n",
       "      <th>0</th>\n",
       "      <td>rspec controller tests put update action neste...</td>\n",
       "      <td>(ruby-on-rails,)</td>\n",
       "      <td>(ruby-on-rails,)</td>\n",
       "    </tr>\n",
       "    <tr>\n",
       "      <th>1</th>\n",
       "      <td>ajax data uncaught referenceerror date defined</td>\n",
       "      <td>(ajax, javascript, jquery)</td>\n",
       "      <td>(ajax, javascript, jquery)</td>\n",
       "    </tr>\n",
       "    <tr>\n",
       "      <th>2</th>\n",
       "      <td>lifecycle method fragment execute asynctask</td>\n",
       "      <td>(android, java)</td>\n",
       "      <td>(android, java)</td>\n",
       "    </tr>\n",
       "    <tr>\n",
       "      <th>3</th>\n",
       "      <td>remove html tags format text returns spaces et...</td>\n",
       "      <td>(.net, c#, html)</td>\n",
       "      <td>(c#,)</td>\n",
       "    </tr>\n",
       "    <tr>\n",
       "      <th>4</th>\n",
       "      <td>initialization makes pointer integer without c...</td>\n",
       "      <td>(c, pointers)</td>\n",
       "      <td>(c, pointers)</td>\n",
       "    </tr>\n",
       "  </tbody>\n",
       "</table>\n",
       "</div>"
      ],
      "text/plain": [
       "                                               title  \\\n",
       "0  rspec controller tests put update action neste...   \n",
       "1     ajax data uncaught referenceerror date defined   \n",
       "2        lifecycle method fragment execute asynctask   \n",
       "3  remove html tags format text returns spaces et...   \n",
       "4  initialization makes pointer integer without c...   \n",
       "\n",
       "                  True labels            Predicted labels  \n",
       "0            (ruby-on-rails,)            (ruby-on-rails,)  \n",
       "1  (ajax, javascript, jquery)  (ajax, javascript, jquery)  \n",
       "2             (android, java)             (android, java)  \n",
       "3            (.net, c#, html)                       (c#,)  \n",
       "4               (c, pointers)               (c, pointers)  "
      ]
     },
     "metadata": {},
     "output_type": "display_data"
    },
    {
     "name": "stdout",
     "output_type": "stream",
     "text": [
      "Bad Examples:\n"
     ]
    },
    {
     "data": {
      "text/html": [
       "<div>\n",
       "<style>\n",
       "    .dataframe thead tr:only-child th {\n",
       "        text-align: right;\n",
       "    }\n",
       "\n",
       "    .dataframe thead th {\n",
       "        text-align: left;\n",
       "    }\n",
       "\n",
       "    .dataframe tbody tr th {\n",
       "        vertical-align: top;\n",
       "    }\n",
       "</style>\n",
       "<table border=\"1\" class=\"dataframe\">\n",
       "  <thead>\n",
       "    <tr style=\"text-align: right;\">\n",
       "      <th></th>\n",
       "      <th>title</th>\n",
       "      <th>True labels</th>\n",
       "      <th>Predicted labels</th>\n",
       "    </tr>\n",
       "  </thead>\n",
       "  <tbody>\n",
       "    <tr>\n",
       "      <th>0</th>\n",
       "      <td>hide statusbar uitabbarcontroller enters lands...</td>\n",
       "      <td>(ios, iphone, objective-c)</td>\n",
       "      <td>()</td>\n",
       "    </tr>\n",
       "    <tr>\n",
       "      <th>1</th>\n",
       "      <td>javamathbiginteger cannot cast javalanginteger</td>\n",
       "      <td>(hibernate, java, mysql, sql)</td>\n",
       "      <td>()</td>\n",
       "    </tr>\n",
       "    <tr>\n",
       "      <th>2</th>\n",
       "      <td>cannot convert value type error swift3</td>\n",
       "      <td>(ios, swift)</td>\n",
       "      <td>()</td>\n",
       "    </tr>\n",
       "    <tr>\n",
       "      <th>3</th>\n",
       "      <td>odbc_exec always fail</td>\n",
       "      <td>(php, sql)</td>\n",
       "      <td>()</td>\n",
       "    </tr>\n",
       "    <tr>\n",
       "      <th>4</th>\n",
       "      <td>csproj file programmatic adding deleting files</td>\n",
       "      <td>(c#,)</td>\n",
       "      <td>()</td>\n",
       "    </tr>\n",
       "  </tbody>\n",
       "</table>\n",
       "</div>"
      ],
      "text/plain": [
       "                                               title  \\\n",
       "0  hide statusbar uitabbarcontroller enters lands...   \n",
       "1     javamathbiginteger cannot cast javalanginteger   \n",
       "2             cannot convert value type error swift3   \n",
       "3                              odbc_exec always fail   \n",
       "4     csproj file programmatic adding deleting files   \n",
       "\n",
       "                     True labels Predicted labels  \n",
       "0     (ios, iphone, objective-c)               ()  \n",
       "1  (hibernate, java, mysql, sql)               ()  \n",
       "2                   (ios, swift)               ()  \n",
       "3                     (php, sql)               ()  \n",
       "4                          (c#,)               ()  "
      ]
     },
     "metadata": {},
     "output_type": "display_data"
    }
   ],
   "source": [
    "def display_predictions(indexes):\n",
    "    examples_titles = [X_test[i] for i in indexes]\n",
    "    examples_actual = [y_val_inversed[i] for i in indexes]\n",
    "    examples_pred = [y_val_pred_inversed[i] for i in indexes]\n",
    "    df = pd.DataFrame(data={'title':examples_titles, 'True labels':examples_actual, 'Predicted labels':examples_pred})\n",
    "    df = df[['title','True labels', 'Predicted labels']]\n",
    "    display(df.head())\n",
    "\n",
    "good_examples = [28, 30, 31, 33, 34, 38, 46, 60, 70, 71, 72, 74]\n",
    "bad_examples = [41, 64, 66, 0, 6, 24, 32, 35]\n",
    "print('Good Examples:')\n",
    "display_predictions(good_examples)\n",
    "print('Bad Examples:')\n",
    "display_predictions(bad_examples)"
   ]
  }
 ],
 "metadata": {
  "kernelspec": {
   "display_name": "Python 3",
   "language": "python",
   "name": "python3"
  },
  "language_info": {
   "codemirror_mode": {
    "name": "ipython",
    "version": 3
   },
   "file_extension": ".py",
   "mimetype": "text/x-python",
   "name": "python",
   "nbconvert_exporter": "python",
   "pygments_lexer": "ipython3",
   "version": "3.6.3"
  }
 },
 "nbformat": 4,
 "nbformat_minor": 2
}
